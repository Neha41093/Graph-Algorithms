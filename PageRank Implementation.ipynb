{
 "cells": [
  {
   "cell_type": "markdown",
   "metadata": {},
   "source": [
    "## PageRank Python Implementation"
   ]
  },
  {
   "cell_type": "code",
   "execution_count": 1,
   "metadata": {},
   "outputs": [],
   "source": [
    "#Loading required packages\n",
    "import numpy as np\n",
    "from scipy.sparse import csc_matrix"
   ]
  },
  {
   "cell_type": "code",
   "execution_count": 2,
   "metadata": {},
   "outputs": [],
   "source": [
    "def PageRankAlgo(G, d = .85, errorlim = .00001, tutor=False):\n",
    "    \n",
    "    #G: is the link matrix representing transitions\n",
    "    #Each element is a binary value representing a transition from web page i to j.\n",
    "    #d: damping factor\n",
    "    #errorlim : if the sum of PageRanks between iterations is less than this, the algorithm converges\n",
    "    \n",
    "    n = G.shape[0]\n",
    "    A = csc_matrix(G,dtype=np.float)\n",
    "    if tutor:\n",
    "        print (\"Representation of sparse matrix as compressed column matrix A:\", A)\n",
    "    rowsums = np.array(A.sum(1))[:,0]\n",
    "    if tutor:\n",
    "        print (\"Row sums for A:\",rowsums)\n",
    "    ri, ci = A.nonzero()\n",
    "    A.data /= rowsums[ri]\n",
    "    if tutor:\n",
    "        print (\"Final Hyperlink matrix A:\", A)\n",
    "    \n",
    "    # boolean array of dangling nodes\n",
    "    dnodes = rowsums==0\n",
    "    if tutor:\n",
    "        print (\"Dangling nodes:\", dnodes)\n",
    "\n",
    "    # PageRank computation\n",
    "    ro, r = np.zeros(n), np.ones(n)\n",
    "    while np.sum(np.abs(r-ro)) > errorlim:\n",
    "        ro = r.copy()\n",
    "        for i in range(n):\n",
    "            # backlinks for each page\n",
    "            Ai = np.array(A[:,i].todense())[:,0]\n",
    "            # default values for dangling nodes\n",
    "            v = dnodes / float(n)\n",
    "            # rank source\n",
    "            E = np.ones(n) / float(n)\n",
    "\n",
    "            r[i] = ro.dot( Ai*d + v*d + E*(1-d) )\n",
    "\n",
    "    # Normalized PageRank values\n",
    "    return r/float(sum(r))"
   ]
  },
  {
   "cell_type": "code",
   "execution_count": 3,
   "metadata": {},
   "outputs": [
    {
     "name": "stdout",
     "output_type": "stream",
     "text": [
      "Representation of sparse matrix as compressed column matrix A:   (2, 0)\t1.0\n",
      "  (5, 0)\t1.0\n",
      "  (1, 1)\t1.0\n",
      "  (0, 2)\t1.0\n",
      "  (1, 2)\t1.0\n",
      "  (2, 2)\t1.0\n",
      "  (4, 2)\t1.0\n",
      "  (2, 3)\t1.0\n",
      "  (3, 3)\t1.0\n",
      "  (6, 3)\t1.0\n",
      "  (3, 4)\t1.0\n",
      "  (6, 4)\t1.0\n",
      "  (1, 5)\t1.0\n",
      "  (5, 5)\t1.0\n",
      "  (4, 6)\t1.0\n",
      "  (5, 6)\t1.0\n",
      "  (6, 6)\t1.0\n",
      "Row sums for A: [ 1.  3.  3.  2.  2.  3.  3.]\n",
      "Final Hyperlink matrix A:   (2, 0)\t1.0\n",
      "  (5, 0)\t0.333333333333\n",
      "  (1, 1)\t0.333333333333\n",
      "  (0, 2)\t0.333333333333\n",
      "  (1, 2)\t0.333333333333\n",
      "  (2, 2)\t0.333333333333\n",
      "  (4, 2)\t0.333333333333\n",
      "  (2, 3)\t0.5\n",
      "  (3, 3)\t0.5\n",
      "  (6, 3)\t0.5\n",
      "  (3, 4)\t0.5\n",
      "  (6, 4)\t0.333333333333\n",
      "  (1, 5)\t0.333333333333\n",
      "  (5, 5)\t0.333333333333\n",
      "  (4, 6)\t0.333333333333\n",
      "  (5, 6)\t0.333333333333\n",
      "  (6, 6)\t0.333333333333\n",
      "Dangling nodes: [False False False False False False False]\n",
      "PageRank vector: [ 0.1942421   0.03027033  0.18717964  0.26411246  0.16752463  0.04238576\n",
      "  0.11428508]\n",
      "Pages Ranked as follows: [2 7 3 1 4 6 5]\n"
     ]
    }
   ],
   "source": [
    "#Run the PageRank algorithm for an example web link matrix\n",
    "\n",
    "if __name__=='__main__':\n",
    "    G = np.array([[0,0,1,0,0,0,0],\n",
    "                  [0,1,1,0,0,1,0],\n",
    "                  [1,0,1,1,0,0,0],\n",
    "                  [0,0,0,1,1,0,0],\n",
    "                  [0,0,1,0,0,0,1],\n",
    "                  [1,0,0,0,0,1,1],\n",
    "                  [0,0,0,1,1,0,1]])\n",
    "    prvec = PageRankAlgo(G,d=.85,tutor=True)\n",
    "    print(\"PageRank vector:\",prvec)\n",
    "    print(\"Pages Ranked as follows:\", np.argsort(-prvec).argsort()+1)"
   ]
  },
  {
   "cell_type": "code",
   "execution_count": null,
   "metadata": {},
   "outputs": [],
   "source": []
  }
 ],
 "metadata": {
  "kernelspec": {
   "display_name": "Python 3",
   "language": "python",
   "name": "python3"
  },
  "language_info": {
   "codemirror_mode": {
    "name": "ipython",
    "version": 3
   },
   "file_extension": ".py",
   "mimetype": "text/x-python",
   "name": "python",
   "nbconvert_exporter": "python",
   "pygments_lexer": "ipython3",
   "version": "3.6.3"
  }
 },
 "nbformat": 4,
 "nbformat_minor": 2
}
